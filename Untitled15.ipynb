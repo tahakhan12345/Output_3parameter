{
  "nbformat": 4,
  "nbformat_minor": 0,
  "metadata": {
    "colab": {
      "provenance": []
    },
    "kernelspec": {
      "name": "python3",
      "display_name": "Python 3"
    },
    "language_info": {
      "name": "python"
    }
  },
  "cells": [
    {
      "cell_type": "code",
      "execution_count": 4,
      "metadata": {
        "colab": {
          "base_uri": "https://localhost:8080/"
        },
        "id": "nqDRB8frdIkP",
        "outputId": "4c5d9ca9-ff98-4c92-8eca-2188922c7289"
      },
      "outputs": [
        {
          "output_type": "stream",
          "name": "stdout",
          "text": [
            "Threat Type: None (Whitelisted)\n",
            "Reputation: 0\n",
            "Severity: Low\n"
          ]
        }
      ],
      "source": [
        "import requests\n",
        "\n",
        "# Your AlienVault OTX API key\n",
        "API_KEY = '98cab605c469a476a859346895efd94aa925c6417bc629f199b8cf7356ce4083'\n",
        "\n",
        "# Base URL for the OTX API\n",
        "BASE_URL = 'https://otx.alienvault.com/api/v1'\n",
        "\n",
        "# Function to check the reputation of an IP\n",
        "def check_ip_reputation(ip_address):\n",
        "    url = f\"{BASE_URL}/indicators/IPv4/{ip_address}/general\"\n",
        "    headers = {\n",
        "        'X-OTX-API-KEY': API_KEY\n",
        "    }\n",
        "\n",
        "    response = requests.get(url, headers=headers)\n",
        "\n",
        "    if response.status_code == 200:\n",
        "        return response.json()\n",
        "    else:\n",
        "        print(f\"Error: Unable to fetch data. Status Code: {response.status_code}\")\n",
        "        return None\n",
        "\n",
        "# Function to extract required details\n",
        "def extract_threat_details(data):\n",
        "    # Determine Threat Type\n",
        "    threat_type = (\n",
        "        \"None (Whitelisted)\"\n",
        "        if any(val.get('name', '').lower() == 'whitelisted ip' for val in data.get('validation', []))\n",
        "        else \"Reported Threat\"\n",
        "    )\n",
        "\n",
        "    # Get Reputation Score\n",
        "    reputation = data.get('reputation', 0)\n",
        "\n",
        "    # Determine Severity\n",
        "    severity = \"Low\" if reputation < 25 else \"Moderate\" if reputation < 75 else \"High\"\n",
        "\n",
        "    return threat_type, reputation, severity\n",
        "\n",
        "# Example Usage\n",
        "if __name__ == '__main__':\n",
        "    ip = '8.8.8.8'  # Replace with the IP address you want to check\n",
        "\n",
        "    # Check IP reputation\n",
        "    ip_result = check_ip_reputation(ip)\n",
        "    if ip_result:\n",
        "        threat_type, reputation, severity = extract_threat_details(ip_result)\n",
        "\n",
        "        # Display results\n",
        "        print(\"Threat Type:\", threat_type)\n",
        "        print(\"Reputation:\", reputation)\n",
        "        print(\"Severity:\", severity)\n"
      ]
    },
    {
      "cell_type": "code",
      "source": [],
      "metadata": {
        "id": "y7xJzsSGQ8LG"
      },
      "execution_count": 22,
      "outputs": []
    },
    {
      "cell_type": "code",
      "source": [
        "import requests\n",
        "\n",
        "# Function to fetch and extract details\n",
        "def fetch_and_extract_ip_details(ip_address):\n",
        "    url = f\"https://api.greynoise.io/v3/community/{ip_address}\"\n",
        "    headers = {\n",
        "        \"accept\": \"application/json\",\n",
        "        \"key\": \"gkWBwJFjmfhgx0UGTmh1xtgEswRpNXNNaFLsqBX2N7nYMPurltKvJSDEmeptFZtq\"\n",
        "    }\n",
        "\n",
        "    response = requests.get(url, headers=headers)\n",
        "\n",
        "    if response.status_code == 200:\n",
        "        data = response.json()\n",
        "\n",
        "        # Extract Threat Type and assign reputation\n",
        "        if data.get(\"noise\", False):  # If malicious activity is detected\n",
        "            threat_type = \"Malicious Activity Detected\"\n",
        "            reputation = 10  # Low reputation (malicious activity)\n",
        "            severity = \"High\"\n",
        "        elif data.get(\"riot\", False):  # If benign activity is detected\n",
        "            threat_type = \"Benign Activity (RIOT)\"\n",
        "            reputation = 50  # Moderate reputation (for benign activity)\n",
        "            severity = \"Low\"\n",
        "        else:  # If no threat is detected\n",
        "            threat_type = \"No Threat Detected\"\n",
        "            reputation = 0  # Reputation is 0 if no threat is detected\n",
        "            severity = \"Low\"\n",
        "\n",
        "        # Return only the three desired parameters\n",
        "        return threat_type, reputation, severity\n",
        "    else:\n",
        "        print(f\"Error: Unable to fetch data. Status Code: {response.status_code}\")\n",
        "        return None, None, None\n",
        "\n",
        "# Example Usage\n",
        "if __name__ == \"__main__\":\n",
        "    ip = \"8.8.8.8\"  # Replace with the IP address you want to check\n",
        "    threat_type, reputation, severity = fetch_and_extract_ip_details(ip)\n",
        "\n",
        "    # Display only the three parameters\n",
        "    if threat_type is not None:\n",
        "        print(\"Threat Type:\", threat_type)\n",
        "        print(\"Reputation:\", reputation)\n",
        "        print(\"Severity:\", severity)\n"
      ],
      "metadata": {
        "colab": {
          "base_uri": "https://localhost:8080/"
        },
        "id": "TO_tIazZSZE-",
        "outputId": "6d45c454-7dd1-4833-fb53-4242bff05f6b"
      },
      "execution_count": 14,
      "outputs": [
        {
          "output_type": "stream",
          "name": "stdout",
          "text": [
            "Threat Type: Benign Activity (RIOT)\n",
            "Reputation: 50\n",
            "Severity: Low\n"
          ]
        }
      ]
    },
    {
      "cell_type": "markdown",
      "source": [
        "have to look down"
      ],
      "metadata": {
        "id": "wH_B71dwcdUQ"
      }
    },
    {
      "cell_type": "code",
      "source": [
        "import requests\n",
        "\n",
        "# Replace 'your_api_key' with the actual API key from your account.\n",
        "API_KEY = '5ab21929e8c3598b0008ea13b26a0ac2f049c77c'\n",
        "IP_ADDRESS = '8.8.8.8'  # Example IP to check\n",
        "\n",
        "# Construct the API endpoint\n",
        "url = f\"https://endpoint.apivoid.com/iprep/v1/pay-as-you-go/?key={API_KEY}&ip={IP_ADDRESS}\"\n",
        "\n",
        "# Send the request\n",
        "response = requests.get(url)\n",
        "\n",
        "# Check if the request was successful\n",
        "if response.status_code == 200:\n",
        "    data = response.json()\n",
        "\n",
        "    # Extract specific fields: threat type, reputation, and severity\n",
        "    threat_type = data.get('data', {}).get('threat_type', 'None (Whitelisted)')\n",
        "    reputation = data.get('data', {}).get('reputation', 0)\n",
        "    severity = data.get('data', {}).get('severity', 'Low')\n",
        "\n",
        "    # Check if the IP is malicious and adjust threat type, reputation, and severity\n",
        "    if threat_type.lower() == 'malicious':\n",
        "        threat_type = 'Malicious'\n",
        "        reputation = 100  # Assign a high reputation score for malicious IP\n",
        "        severity = 'High'  # Assign high severity for malicious IP\n",
        "    elif reputation > 80:\n",
        "        severity = 'Medium'  # For high reputation, set medium severity\n",
        "    else:\n",
        "        severity = 'Low'  # Default low severity for other cases\n",
        "\n",
        "    # Print the extracted values\n",
        "    print(\"Threat Type:\", threat_type)\n",
        "    print(\"Reputation:\", reputation)\n",
        "    print(\"Severity:\", severity)\n",
        "else:\n",
        "    print(f\"Error: {response.status_code}, {response.text}\")\n"
      ],
      "metadata": {
        "colab": {
          "base_uri": "https://localhost:8080/"
        },
        "id": "As6AAyymSJ-E",
        "outputId": "664ceca1-f871-42e7-ee08-c172b560ebfb"
      },
      "execution_count": 18,
      "outputs": [
        {
          "output_type": "stream",
          "name": "stdout",
          "text": [
            "Threat Type: None (Whitelisted)\n",
            "Reputation: 0\n",
            "Severity: Low\n"
          ]
        }
      ]
    },
    {
      "cell_type": "code",
      "source": [
        "import requests\n",
        "from xml.etree import ElementTree as ET\n",
        "\n",
        "# Specify the IP address you want to check\n",
        "ip_address = '8.8.8.8'  # Replace with actual IP\n",
        "\n",
        "# DShield API URL for IP reputation\n",
        "url = f'https://isc.sans.edu/api/ip/{ip_address}'\n",
        "\n",
        "# Send GET request to the API\n",
        "response = requests.get(url)\n",
        "\n",
        "# Check if the request was successful\n",
        "if response.status_code == 200:\n",
        "    # Parse the XML response\n",
        "    try:\n",
        "        root = ET.fromstring(response.text)\n",
        "\n",
        "        # Extract key information from the XML response\n",
        "        maxrisk = int(root.find('maxrisk').text) if root.find('maxrisk') is not None else 0\n",
        "        attacks = int(root.find('attacks').text) if root.find('attacks') is not None else 0\n",
        "\n",
        "        # Define threat severity and reputation score\n",
        "        if maxrisk == 0:\n",
        "            threat_severity = \"Low\"\n",
        "            reputation_score = 0\n",
        "        elif maxrisk <= 50:\n",
        "            threat_severity = \"Medium\"\n",
        "            reputation_score = maxrisk * 2  # Scale it to 0-100\n",
        "        else:\n",
        "            threat_severity = \"High\"\n",
        "            reputation_score = maxrisk * 2  # Scale it to 0-100\n",
        "\n",
        "        # Check if threat type is defined in the raw output\n",
        "        threat_type = \"Not Defined\"\n",
        "        # We can infer threat type from related fields like 'attacks' if not explicitly stated\n",
        "        if attacks > 0:\n",
        "            threat_type = \"Not Defined\"\n",
        "\n",
        "        # Print the three parameters\n",
        "        print(f\"Threat Type: {threat_type}\")\n",
        "        print(f\"Threat Severity: {threat_severity}\")\n",
        "        print(f\"Reputation Score: {reputation_score} \")\n",
        "\n",
        "    except Exception as e:\n",
        "        print(f\"Error parsing the XML response: {e}\")\n",
        "\n",
        "else:\n",
        "    print(f\"Failed to retrieve data: {response.status_code}\")\n"
      ],
      "metadata": {
        "colab": {
          "base_uri": "https://localhost:8080/"
        },
        "id": "5TtbtebhSaii",
        "outputId": "e401aadc-1da6-42b1-e995-beb150f3b164"
      },
      "execution_count": 22,
      "outputs": [
        {
          "output_type": "stream",
          "name": "stdout",
          "text": [
            "Threat Type: Not Defined\n",
            "Threat Severity: Low\n",
            "Reputation Score: 0 \n"
          ]
        }
      ]
    },
    {
      "cell_type": "code",
      "source": [],
      "metadata": {
        "id": "OY2uV91xhDNp"
      },
      "execution_count": 25,
      "outputs": []
    },
    {
      "cell_type": "markdown",
      "source": [
        "not perfect below"
      ],
      "metadata": {
        "id": "8yotRh6tl2Nj"
      }
    },
    {
      "cell_type": "code",
      "source": [
        "import requests\n",
        "\n",
        "def function_cell_10(user_input):\n",
        "    # Replace 'YOUR_API_KEY' with your Shodan API key\n",
        "    api_key = \"BZteAcw4wNUT161x90VoMThtWc1oZeYb\"\n",
        "\n",
        "    # The IP address can be taken from the user input or set directly\n",
        "    ip_address = user_input if user_input else \"8.8.8.8\"  # Default to '8.8.8.8' if no user input\n",
        "\n",
        "    # Shodan API endpoint for host information\n",
        "    url = f\"https://api.shodan.io/shodan/host/{ip_address}?key={api_key}\"\n",
        "\n",
        "    try:\n",
        "        # Making the GET request to Shodan API\n",
        "        response = requests.get(url)\n",
        "\n",
        "        if response.status_code == 200:\n",
        "            # Parse the JSON response\n",
        "            data = response.json()\n",
        "\n",
        "            # Initialize default values\n",
        "            threat_type = \"Not Defined\"\n",
        "            threat_severity = \"Low\"\n",
        "            reputation_score = 0\n",
        "\n",
        "            # If available, extract threat-related details\n",
        "            if \"tags\" in data:\n",
        "                # Here, 'tags' could help in determining the reputation score\n",
        "                tags = data[\"tags\"]\n",
        "                reputation_score = len(tags)  # A simple count of tags as reputation score\n",
        "\n",
        "            # Return the required values in the expected format\n",
        "            print(f\"Threat Type: {threat_type}\")\n",
        "            print(f\"Threat Severity: {threat_severity}\")\n",
        "            print(f\"Reputation Score: {reputation_score}\")\n",
        "\n",
        "        else:\n",
        "            print(f\"Error: {response.status_code} - {response.json().get('error')}\")\n",
        "\n",
        "    except requests.exceptions.RequestException as e:\n",
        "        # Catch network-related errors\n",
        "        print(f\"Network error occurred: {e}\")\n",
        "    except Exception as e:\n",
        "        # Catch other unexpected errors\n",
        "        print(f\"An error occurred: {e}\")\n",
        "\n",
        "# Example usage:\n",
        "function_cell_10(\"\")  # Empty input to use default IP '8.8.8.8'\n"
      ],
      "metadata": {
        "colab": {
          "base_uri": "https://localhost:8080/"
        },
        "id": "fNeID0n9kqnO",
        "outputId": "631bd0b4-ee82-4d73-b1ac-c64ee0a34b5c"
      },
      "execution_count": 26,
      "outputs": [
        {
          "output_type": "stream",
          "name": "stdout",
          "text": [
            "Threat Type: Not Defined\n",
            "Threat Severity: Low\n",
            "Reputation Score: 0\n"
          ]
        }
      ]
    }
  ]
}